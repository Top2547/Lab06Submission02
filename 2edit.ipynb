{
 "cells": [
  {
   "cell_type": "code",
   "execution_count": 1,
   "metadata": {},
   "outputs": [
    {
     "name": "stdout",
     "output_type": "stream",
     "text": [
      "pygame 2.3.0 (SDL 2.24.2, Python 3.9.12)\n",
      "Hello from the pygame community. https://www.pygame.org/contribute.html\n"
     ]
    }
   ],
   "source": [
    "import sys\n",
    "import pygame as pg"
   ]
  },
  {
   "cell_type": "code",
   "execution_count": 2,
   "metadata": {},
   "outputs": [],
   "source": [
    "class Rectangle:\n",
    "    def __init__(self,x=0,y=0,w=0,h=0,r=0,g=0,b=0):\n",
    "        self.x = x # Position X\n",
    "        self.y = y # Position Y\n",
    "        self.w = w # Width\n",
    "        self.h = h # Height\n",
    "        self.r = r # Red\n",
    "        self.g = g # Green\n",
    "        self.b = b # Blue\n",
    "    def draw(self,screen):\n",
    "        pg.draw.rect(screen,(120,20,220),(self.x,self.y,self.w,self.h))"
   ]
  },
  {
   "cell_type": "code",
   "execution_count": 3,
   "metadata": {},
   "outputs": [],
   "source": [
    "class Button(Rectangle):\n",
    "    def __init__(self, x=0, y=0, w=0, h=0, r=0, g=0, b=0, hover_color=(128, 128, 128), pressed_color=(120, 20, 220)):\n",
    "        Rectangle.__init__(self, x, y, w, h, r, g, b)\n",
    "        self.hover_color = hover_color\n",
    "        self.pressed_color = pressed_color\n",
    "        self.color = (r, g, b)\n",
    "\n",
    "    def draw(self, screen):\n",
    "        pg.draw.rect(screen, self.color, (self.x, self.y, self.w, self.h))"
   ]
  },
  {
   "cell_type": "code",
   "execution_count": 4,
   "metadata": {},
   "outputs": [
    {
     "name": "stdout",
     "output_type": "stream",
     "text": [
      "Key  down\n",
      "Key  up\n",
      "Key  down\n",
      "Key  up\n",
      "Key  down\n",
      "Key  up\n",
      "Key  down\n",
      "Key  up\n"
     ]
    },
    {
     "ename": "error",
     "evalue": "display Surface quit",
     "output_type": "error",
     "traceback": [
      "\u001b[1;31m---------------------------------------------------------------------------\u001b[0m",
      "\u001b[1;31merror\u001b[0m                                     Traceback (most recent call last)",
      "\u001b[1;32md:\\Year1.2\\Fra_142\\Lab6\\2edit.ipynb Cell 4\u001b[0m in \u001b[0;36m<cell line: 17>\u001b[1;34m()\u001b[0m\n\u001b[0;32m     <a href='vscode-notebook-cell:/d%3A/Year1.2/Fra_142/Lab6/2edit.ipynb#W3sZmlsZQ%3D%3D?line=56'>57</a>\u001b[0m \u001b[39mif\u001b[39;00m xright :\n\u001b[0;32m     <a href='vscode-notebook-cell:/d%3A/Year1.2/Fra_142/Lab6/2edit.ipynb#W3sZmlsZQ%3D%3D?line=57'>58</a>\u001b[0m     btn\u001b[39m.\u001b[39mx \u001b[39m+\u001b[39m\u001b[39m=\u001b[39m \u001b[39m1\u001b[39m\n\u001b[1;32m---> <a href='vscode-notebook-cell:/d%3A/Year1.2/Fra_142/Lab6/2edit.ipynb#W3sZmlsZQ%3D%3D?line=59'>60</a>\u001b[0m btn\u001b[39m.\u001b[39;49mdraw(screen)\n\u001b[0;32m     <a href='vscode-notebook-cell:/d%3A/Year1.2/Fra_142/Lab6/2edit.ipynb#W3sZmlsZQ%3D%3D?line=60'>61</a>\u001b[0m pg\u001b[39m.\u001b[39mdisplay\u001b[39m.\u001b[39mupdate()\n",
      "\u001b[1;32md:\\Year1.2\\Fra_142\\Lab6\\2edit.ipynb Cell 4\u001b[0m in \u001b[0;36mButton.draw\u001b[1;34m(self, screen)\u001b[0m\n\u001b[0;32m      <a href='vscode-notebook-cell:/d%3A/Year1.2/Fra_142/Lab6/2edit.ipynb#W3sZmlsZQ%3D%3D?line=7'>8</a>\u001b[0m \u001b[39mdef\u001b[39;00m \u001b[39mdraw\u001b[39m(\u001b[39mself\u001b[39m, screen):\n\u001b[1;32m----> <a href='vscode-notebook-cell:/d%3A/Year1.2/Fra_142/Lab6/2edit.ipynb#W3sZmlsZQ%3D%3D?line=8'>9</a>\u001b[0m     pg\u001b[39m.\u001b[39;49mdraw\u001b[39m.\u001b[39;49mrect(screen, \u001b[39mself\u001b[39;49m\u001b[39m.\u001b[39;49mcolor, (\u001b[39mself\u001b[39;49m\u001b[39m.\u001b[39;49mx, \u001b[39mself\u001b[39;49m\u001b[39m.\u001b[39;49my, \u001b[39mself\u001b[39;49m\u001b[39m.\u001b[39;49mw, \u001b[39mself\u001b[39;49m\u001b[39m.\u001b[39;49mh))\n",
      "\u001b[1;31merror\u001b[0m: display Surface quit"
     ]
    }
   ],
   "source": [
    "\n",
    "import sys\n",
    "import pygame as pg\n",
    "# Initialize pygame and set up the display\n",
    "pg.init()\n",
    "run = True\n",
    "win_x, win_y = 800, 480\n",
    "screen = pg.display.set_mode((win_x, win_y))\n",
    "\n",
    "# Create the Button object\n",
    "btn = Button(350, 190, 100, 100, 255, 0, 0)  # Create a red button\n",
    "\n",
    "yup = False\n",
    "ydown = False\n",
    "xleft = False\n",
    "xright = False\n",
    "# Game loop\n",
    "while run:\n",
    "    screen.fill((255, 255, 255))\n",
    "    # btn.isMouseOn()\n",
    "    btn.draw(screen)\n",
    "    pg.display.update()\n",
    "\n",
    "    for event in pg.event.get():\n",
    "        if event.type == pg.QUIT:\n",
    "            pg.quit()\n",
    "            run = False\n",
    "        if event.type == pg.KEYDOWN and event.key == pg.K_w:\n",
    "            yup = True\n",
    "            print(\"Key  down\")\n",
    "        if event.type == pg.KEYUP and event.key == pg.K_w:\n",
    "            yup = False\n",
    "            print(\"Key  up\")\n",
    "        if event.type == pg.KEYDOWN and event.key == pg.K_s:\n",
    "            ydown = True\n",
    "            print(\"Key  down\")\n",
    "        if event.type == pg.KEYUP and event.key == pg.K_s:\n",
    "            ydown = False\n",
    "            print(\"Key  up\")\n",
    "        if event.type == pg.KEYDOWN and event.key == pg.K_a:\n",
    "            xleft = True\n",
    "            print(\"Key  down\")\n",
    "        if event.type == pg.KEYUP and event.key == pg.K_a:\n",
    "            xleft = False\n",
    "            print(\"Key  up\")\n",
    "        if event.type == pg.KEYDOWN and event.key == pg.K_d:\n",
    "            xright = True\n",
    "            print(\"Key  down\")\n",
    "        if event.type == pg.KEYUP and event.key == pg.K_d:\n",
    "            xright = False\n",
    "            print(\"Key  up\")\n",
    "    if yup :\n",
    "        btn.y -= 1\n",
    "    if ydown :\n",
    "        btn.y += 1\n",
    "    if xleft :\n",
    "        btn.x -= 1\n",
    "    if xright :\n",
    "        btn.x += 1\n",
    "        \n",
    "    btn.draw(screen)\n",
    "    pg.display.update()\n",
    "\n",
    "\n",
    "\n"
   ]
  },
  {
   "cell_type": "code",
   "execution_count": null,
   "metadata": {},
   "outputs": [],
   "source": []
  }
 ],
 "metadata": {
  "kernelspec": {
   "display_name": "base",
   "language": "python",
   "name": "python3"
  },
  "language_info": {
   "codemirror_mode": {
    "name": "ipython",
    "version": 3
   },
   "file_extension": ".py",
   "mimetype": "text/x-python",
   "name": "python",
   "nbconvert_exporter": "python",
   "pygments_lexer": "ipython3",
   "version": "3.9.12"
  },
  "orig_nbformat": 4
 },
 "nbformat": 4,
 "nbformat_minor": 2
}
