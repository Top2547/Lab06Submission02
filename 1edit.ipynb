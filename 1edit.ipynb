{
 "cells": [
  {
   "cell_type": "code",
   "execution_count": 24,
   "metadata": {},
   "outputs": [],
   "source": [
    "import sys\n",
    "import pygame as pg\n"
   ]
  },
  {
   "cell_type": "code",
   "execution_count": 25,
   "metadata": {},
   "outputs": [],
   "source": [
    "class Rectangle:\n",
    "    def __init__(self, x=0, y=0, w=0, h=0, r=0, g=0, b=0):\n",
    "        self.x = x  # Position X\n",
    "        self.y = y  # Position Y\n",
    "        self.w = w  # Width\n",
    "        self.h = h  # Height\n",
    "        self.r = r  # Red\n",
    "        self.g = g  # Green\n",
    "        self.b = b  # Blue\n",
    "\n",
    "    def draw(self, screen):\n",
    "        pg.draw.rect(screen, (120, 20, 220), (self.x, self.y, self.w, self.h))\n"
   ]
  },
  {
   "cell_type": "code",
   "execution_count": 26,
   "metadata": {},
   "outputs": [],
   "source": [
    "class Button(Rectangle):\n",
    "    def __init__(self, x=0, y=0, w=0, h=0, r=0, g=0, b=0, hover_color=(128, 128, 128), pressed_color=(120, 20, 220)):\n",
    "        Rectangle.__init__(self, x, y, w, h, r, g, b)\n",
    "        self.hover_color = hover_color\n",
    "        self.pressed_color = pressed_color\n",
    "        self.color = (r, g, b)\n",
    "    def isMouseOn(self):\n",
    "        xmo, ymo = pg.mouse.get_pos()\n",
    "        if (btn.x <= xmo <= btn.x + btn.w) and (btn.y <= ymo <= btn.y + btn.h):\n",
    "            return 1\n",
    "        else :\n",
    "            return 0\n",
    "    def draw(self, screen):\n",
    "        pg.draw.rect(screen, self.color, (self.x, self.y, self.w, self.h))\n"
   ]
  },
  {
   "cell_type": "code",
   "execution_count": 27,
   "metadata": {},
   "outputs": [],
   "source": [
    "import sys\n",
    "import pygame as pg\n",
    "# Initialize pygame and set up the display\n",
    "pg.init()\n",
    "run = True\n",
    "win_x, win_y = 800, 480\n",
    "screen = pg.display.set_mode((win_x, win_y))\n",
    "\n",
    "# Create the Button object\n",
    "btn = Button(20, 20, 100, 100, 255, 0, 0)  # Create a red button\n",
    "\n",
    "# Game loop\n",
    "while run:\n",
    "    screen.fill((255, 255, 255))\n",
    "    if btn.isMouseOn() == 1:\n",
    "        if pg.mouse.get_pressed()[0]:\n",
    "            btn.color = btn.pressed_color\n",
    "        else:\n",
    "            btn.color = btn.hover_color\n",
    "            btn.w = 300\n",
    "            btn.h = 300\n",
    "    else:\n",
    "        btn.color = (btn.r, btn.g, btn.b)\n",
    "        btn.w = 100\n",
    "        btn.h = 100\n",
    "\n",
    "    btn.draw(screen)\n",
    "    pg.display.update()\n",
    "    for event in pg.event.get():\n",
    "        if event.type == pg.QUIT:\n",
    "            pg.quit()\n",
    "            run = False\n"
   ]
  }
 ],
 "metadata": {
  "kernelspec": {
   "display_name": "base",
   "language": "python",
   "name": "python3"
  },
  "language_info": {
   "codemirror_mode": {
    "name": "ipython",
    "version": 3
   },
   "file_extension": ".py",
   "mimetype": "text/x-python",
   "name": "python",
   "nbconvert_exporter": "python",
   "pygments_lexer": "ipython3",
   "version": "3.9.12"
  },
  "orig_nbformat": 4,
  "vscode": {
   "interpreter": {
    "hash": "602577c7bf4f95a8434d2af071f4c44394c8056544052f57cbca290bc25d0750"
   }
  }
 },
 "nbformat": 4,
 "nbformat_minor": 2
}
